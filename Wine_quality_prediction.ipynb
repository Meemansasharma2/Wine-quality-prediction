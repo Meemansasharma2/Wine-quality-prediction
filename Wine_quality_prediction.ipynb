{
 "cells": [
  {
   "cell_type": "code",
   "execution_count": 1,
   "id": "39011bfe-3f2e-4015-917b-9725c17cebf9",
   "metadata": {},
   "outputs": [
    {
     "name": "stdout",
     "output_type": "stream",
     "text": [
      "Data preprocessing completed. Scaler saved as 'scaler.pkl'.\n"
     ]
    }
   ],
   "source": [
    "import pandas as pd\n",
    "import numpy as np\n",
    "import joblib\n",
    "from sklearn.preprocessing import StandardScaler\n",
    "\n",
    "# Load the datasets\n",
    "red_wine = pd.read_csv('winequality-red.csv', delimiter=';')\n",
    "white_wine = pd.read_csv('winequality-white.csv', delimiter=';')\n",
    "\n",
    "# Add a column for wine type\n",
    "red_wine['wine_type'] = 0  # 0 for Red wine\n",
    "white_wine['wine_type'] = 1  # 1 for White wine\n",
    "\n",
    "# Combine datasets\n",
    "wine_data = pd.concat([red_wine, white_wine], ignore_index=True)\n",
    "\n",
    "# Clean column names (remove spaces)\n",
    "wine_data.columns = wine_data.columns.str.strip()\n",
    "\n",
    "# Transform quality into categories: (Bad=0, Average=1, Good=2)\n",
    "wine_data['quality'] = wine_data['quality'].apply(lambda x: 0 if x <= 3 else (1 if x <= 5.5 else 2))\n",
    "\n",
    "# Select top 6 important features\n",
    "top_6_features = ['volatile acidity', 'free sulfur dioxide', 'total sulfur dioxide', 'sulphates', 'alcohol', 'residual sugar']\n",
    "X = wine_data[top_6_features]\n",
    "\n",
    "# Standardize features\n",
    "scaler = StandardScaler()\n",
    "X_scaled = scaler.fit_transform(X)\n",
    "\n",
    "# Save the scaler for later use\n",
    "joblib.dump(scaler, 'scaler.pkl')\n",
    "\n",
    "print(\"Data preprocessing completed. Scaler saved as 'scaler.pkl'.\")\n"
   ]
  },
  {
   "cell_type": "code",
   "execution_count": 3,
   "id": "da981ef0-1f4a-4f6f-a8f0-49d20a8c08c8",
   "metadata": {},
   "outputs": [
    {
     "name": "stdout",
     "output_type": "stream",
     "text": [
      "✅ Data preprocessing completed. Scaler saved as 'scaler.pkl'.\n"
     ]
    }
   ],
   "source": [
    "import pandas as pd\n",
    "import numpy as np\n",
    "import joblib\n",
    "from sklearn.preprocessing import StandardScaler\n",
    "\n",
    "# Load the datasets\n",
    "red_wine = pd.read_csv('winequality-red.csv', delimiter=';')\n",
    "white_wine = pd.read_csv('winequality-white.csv', delimiter=';')\n",
    "\n",
    "# Add a column for wine type\n",
    "red_wine['wine_type'] = 0  # 0 for Red wine\n",
    "white_wine['wine_type'] = 1  # 1 for White wine\n",
    "\n",
    "# Combine datasets\n",
    "wine_data = pd.concat([red_wine, white_wine], ignore_index=True)\n",
    "\n",
    "# Clean column names (remove spaces)\n",
    "wine_data.columns = wine_data.columns.str.strip()\n",
    "\n",
    "# Transform quality into categories: (Bad=0, Average=1, Good=2)\n",
    "wine_data['quality'] = wine_data['quality'].apply(lambda x: 0 if x <= 3 else (1 if x <= 5.5 else 2))\n",
    "\n",
    "# Select top 6 important features\n",
    "top_6_features = ['volatile acidity', 'free sulfur dioxide', 'total sulfur dioxide', 'sulphates', 'alcohol', 'residual sugar']\n",
    "X = wine_data[top_6_features]\n",
    "y = wine_data['quality']  # Target variable\n",
    "\n",
    "# Standardize features\n",
    "scaler = StandardScaler()\n",
    "X_scaled = scaler.fit_transform(X)\n",
    "\n",
    "# Save the scaler for later use\n",
    "joblib.dump(scaler, 'scaler.pkl')\n",
    "\n",
    "print(\"Data preprocessing completed. Scaler saved as 'scaler.pkl'.\")\n"
   ]
  },
  {
   "cell_type": "code",
   "execution_count": 4,
   "id": "f4f68fcc-5846-4efe-9e17-0df50c87b77a",
   "metadata": {},
   "outputs": [
    {
     "name": "stdout",
     "output_type": "stream",
     "text": [
      "Fitting 5 folds for each of 108 candidates, totalling 540 fits\n",
      "✅ Model trained successfully with Accuracy: 0.8292\n",
      "📜 Classification Report:\n",
      "               precision    recall  f1-score   support\n",
      "\n",
      "           0       0.00      0.00      0.00         6\n",
      "           1       0.79      0.73      0.76       471\n",
      "           2       0.85      0.89      0.87       823\n",
      "\n",
      "    accuracy                           0.83      1300\n",
      "   macro avg       0.55      0.54      0.54      1300\n",
      "weighted avg       0.82      0.83      0.83      1300\n",
      "\n"
     ]
    },
    {
     "name": "stderr",
     "output_type": "stream",
     "text": [
      "C:\\Users\\meema\\anaconda3\\Lib\\site-packages\\sklearn\\metrics\\_classification.py:1565: UndefinedMetricWarning: Precision is ill-defined and being set to 0.0 in labels with no predicted samples. Use `zero_division` parameter to control this behavior.\n",
      "  _warn_prf(average, modifier, f\"{metric.capitalize()} is\", len(result))\n",
      "C:\\Users\\meema\\anaconda3\\Lib\\site-packages\\sklearn\\metrics\\_classification.py:1565: UndefinedMetricWarning: Precision is ill-defined and being set to 0.0 in labels with no predicted samples. Use `zero_division` parameter to control this behavior.\n",
      "  _warn_prf(average, modifier, f\"{metric.capitalize()} is\", len(result))\n",
      "C:\\Users\\meema\\anaconda3\\Lib\\site-packages\\sklearn\\metrics\\_classification.py:1565: UndefinedMetricWarning: Precision is ill-defined and being set to 0.0 in labels with no predicted samples. Use `zero_division` parameter to control this behavior.\n",
      "  _warn_prf(average, modifier, f\"{metric.capitalize()} is\", len(result))\n"
     ]
    }
   ],
   "source": [
    "from sklearn.ensemble import RandomForestClassifier\n",
    "from sklearn.model_selection import train_test_split, GridSearchCV\n",
    "from sklearn.metrics import accuracy_score, classification_report\n",
    "import joblib\n",
    "\n",
    "# Split data into training and testing sets (80% train, 20% test)\n",
    "X_train, X_test, y_train, y_test = train_test_split(X_scaled, y, test_size=0.2, random_state=42, stratify=y)\n",
    "\n",
    "# Define RandomForest model\n",
    "rf_model = RandomForestClassifier(random_state=42, n_jobs=-1)\n",
    "\n",
    "# Hyperparameter tuning using GridSearchCV\n",
    "param_grid = {\n",
    "    'n_estimators': [100, 200, 300],\n",
    "    'max_depth': [None, 10, 20, 30],\n",
    "    'min_samples_split': [2, 5, 10],\n",
    "    'min_samples_leaf': [1, 2, 4]\n",
    "}\n",
    "\n",
    "grid_search = GridSearchCV(rf_model, param_grid, cv=5, n_jobs=-1, verbose=1)\n",
    "grid_search.fit(X_train, y_train)\n",
    "\n",
    "# Best model from GridSearch\n",
    "best_rf = grid_search.best_estimator_\n",
    "\n",
    "# Train the best model\n",
    "best_rf.fit(X_train, y_train)\n",
    "\n",
    "# Save the trained model\n",
    "joblib.dump(best_rf, 'wine_quality_model.pkl')\n",
    "\n",
    "# Model Evaluation\n",
    "y_pred = best_rf.predict(X_test)\n",
    "accuracy = accuracy_score(y_test, y_pred)\n",
    "\n",
    "print(f\" Model trained successfully with Accuracy: {accuracy:.4f}\")\n",
    "print(\" Classification Report:\\n\", classification_report(y_test, y_pred))\n"
   ]
  },
  {
   "cell_type": "code",
   "execution_count": 5,
   "id": "63610361-d744-478d-b75c-2a427f73f741",
   "metadata": {},
   "outputs": [
    {
     "name": "stdout",
     "output_type": "stream",
     "text": [
      "Fitting 5 folds for each of 108 candidates, totalling 540 fits\n",
      "✅ Wine Type Model trained successfully with Accuracy: 0.9908\n",
      "📜 Classification Report for Wine Type:\n",
      "               precision    recall  f1-score   support\n",
      "\n",
      "           0       0.98      0.99      0.98       320\n",
      "           1       1.00      0.99      0.99       980\n",
      "\n",
      "    accuracy                           0.99      1300\n",
      "   macro avg       0.99      0.99      0.99      1300\n",
      "weighted avg       0.99      0.99      0.99      1300\n",
      "\n"
     ]
    }
   ],
   "source": [
    "# Split data into features (X) and target (y) for wine type\n",
    "y_type = wine_data['wine_type']  # 0 for Red, 1 for White\n",
    "\n",
    "# Split data into training and testing sets (80% train, 20% test)\n",
    "X_train_type, X_test_type, y_train_type, y_test_type = train_test_split(X_scaled, y_type, test_size=0.2, random_state=42, stratify=y_type)\n",
    "\n",
    "# Define RandomForest model for Wine Type\n",
    "rf_model_type = RandomForestClassifier(random_state=42, n_jobs=-1)\n",
    "\n",
    "# Hyperparameter tuning using GridSearchCV\n",
    "param_grid_type = {\n",
    "    'n_estimators': [100, 200, 300],\n",
    "    'max_depth': [None, 10, 20, 30],\n",
    "    'min_samples_split': [2, 5, 10],\n",
    "    'min_samples_leaf': [1, 2, 4]\n",
    "}\n",
    "\n",
    "grid_search_type = GridSearchCV(rf_model_type, param_grid_type, cv=5, n_jobs=-1, verbose=1)\n",
    "grid_search_type.fit(X_train_type, y_train_type)\n",
    "\n",
    "# Best model from GridSearch for Wine Type\n",
    "best_rf_type = grid_search_type.best_estimator_\n",
    "\n",
    "# Train the best model\n",
    "best_rf_type.fit(X_train_type, y_train_type)\n",
    "\n",
    "# Save the trained wine type model\n",
    "joblib.dump(best_rf_type, 'wine_type_model.pkl')\n",
    "\n",
    "# Model Evaluation for Wine Type\n",
    "y_pred_type = best_rf_type.predict(X_test_type)\n",
    "accuracy_type = accuracy_score(y_test_type, y_pred_type)\n",
    "\n",
    "print(f\" Wine Type Model trained successfully with Accuracy: {accuracy_type:.4f}\")\n",
    "print(\" Classification Report for Wine Type:\\n\", classification_report(y_test_type, y_pred_type))\n"
   ]
  },
  {
   "cell_type": "code",
   "execution_count": null,
   "id": "01cb6c84-b2d6-4f78-8852-289045d3c137",
   "metadata": {},
   "outputs": [],
   "source": []
  },
  {
   "cell_type": "code",
   "execution_count": null,
   "id": "94973361-248f-4267-a10d-2aa8520e8a8e",
   "metadata": {},
   "outputs": [],
   "source": []
  },
  {
   "cell_type": "code",
   "execution_count": null,
   "id": "ab0fa4b4-8ba1-4841-94ac-60ce9107a1ce",
   "metadata": {},
   "outputs": [],
   "source": []
  }
 ],
 "metadata": {
  "kernelspec": {
   "display_name": "Python 3 (ipykernel)",
   "language": "python",
   "name": "python3"
  },
  "language_info": {
   "codemirror_mode": {
    "name": "ipython",
    "version": 3
   },
   "file_extension": ".py",
   "mimetype": "text/x-python",
   "name": "python",
   "nbconvert_exporter": "python",
   "pygments_lexer": "ipython3",
   "version": "3.11.7"
  }
 },
 "nbformat": 4,
 "nbformat_minor": 5
}
